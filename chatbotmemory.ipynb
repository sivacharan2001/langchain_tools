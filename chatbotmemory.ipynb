{
 "cells": [
  {
   "cell_type": "code",
   "execution_count": 1,
   "metadata": {},
   "outputs": [
    {
     "data": {
      "text/plain": [
       "True"
      ]
     },
     "execution_count": 1,
     "metadata": {},
     "output_type": "execute_result"
    }
   ],
   "source": [
    "import os\n",
    "from dotenv import load_dotenv\n",
    "load_dotenv()"
   ]
  },
  {
   "cell_type": "code",
   "execution_count": 2,
   "metadata": {},
   "outputs": [],
   "source": [
    "os.environ[\"GROQ_API_KEY\"]=os.getenv(\"GROQ_API_KEY\")"
   ]
  },
  {
   "cell_type": "code",
   "execution_count": 4,
   "metadata": {},
   "outputs": [
    {
     "data": {
      "text/plain": [
       "ChatGroq(client=<groq.resources.chat.completions.Completions object at 0x000001B01AD725A0>, async_client=<groq.resources.chat.completions.AsyncCompletions object at 0x000001B01AD736E0>, model_kwargs={}, groq_api_key=SecretStr('**********'))"
      ]
     },
     "execution_count": 4,
     "metadata": {},
     "output_type": "execute_result"
    }
   ],
   "source": [
    "from langchain_groq import ChatGroq\n",
    "\n",
    "model=ChatGroq(model=\"mixtral-8x7b-32768\")\n",
    "model"
   ]
  },
  {
   "cell_type": "code",
   "execution_count": 5,
   "metadata": {},
   "outputs": [
    {
     "data": {
      "text/plain": [
       "AIMessage(content=\"Hello! How can I help you today? If you have any questions about philosophy, from ethics to metaphysics, I'm here to try and answer them to the best of my ability. If you're interested in learning more about a specific philosopher or philosophical concept, just let me know and we can explore it together. I can also help you with any philosophical arguments or debates you might be having. So, what's on your mind?\", additional_kwargs={}, response_metadata={'token_usage': {'completion_tokens': 99, 'prompt_tokens': 9, 'total_tokens': 108, 'completion_time': 0.152082069, 'prompt_time': 0.001760859, 'queue_time': 0.019383197, 'total_time': 0.153842928}, 'model_name': 'mixtral-8x7b-32768', 'system_fingerprint': 'fp_c5f20b5bb1', 'finish_reason': 'stop', 'logprobs': None}, id='run-e3344698-cd67-47a5-ad6a-24353800404a-0', usage_metadata={'input_tokens': 9, 'output_tokens': 99, 'total_tokens': 108})"
      ]
     },
     "execution_count": 5,
     "metadata": {},
     "output_type": "execute_result"
    }
   ],
   "source": [
    "model.invoke(\"hello\")"
   ]
  },
  {
   "cell_type": "code",
   "execution_count": 6,
   "metadata": {},
   "outputs": [
    {
     "data": {
      "text/plain": [
       "AIMessage(content='I am a large language model trained by Mistral AI.Here to help you with any question or task you might have. I can provide information, generate text, answer questions, and assist with a variety of tasks. I am designed to understand and respond to natural language input, so you can communicate with me just as you would with another person. I am constantly learning and improving, so the more you interact with me, the better I can assist you.', additional_kwargs={}, response_metadata={'token_usage': {'completion_tokens': 93, 'prompt_tokens': 12, 'total_tokens': 105, 'completion_time': 0.143185481, 'prompt_time': 0.002132896, 'queue_time': 0.021717219000000003, 'total_time': 0.145318377}, 'model_name': 'mixtral-8x7b-32768', 'system_fingerprint': 'fp_c5f20b5bb1', 'finish_reason': 'stop', 'logprobs': None}, id='run-fae763b1-25ed-4539-ac86-62ab281446a0-0', usage_metadata={'input_tokens': 12, 'output_tokens': 93, 'total_tokens': 105})"
      ]
     },
     "execution_count": 6,
     "metadata": {},
     "output_type": "execute_result"
    }
   ],
   "source": [
    "from langchain_core.messages import HumanMessage\n",
    "\n",
    "model.invoke([HumanMessage(content=\"tell me about yourself?\")])"
   ]
  },
  {
   "cell_type": "code",
   "execution_count": 7,
   "metadata": {},
   "outputs": [
    {
     "data": {
      "text/plain": [
       "AIMessage(content='Your name is Sunny.', additional_kwargs={}, response_metadata={'token_usage': {'completion_tokens': 7, 'prompt_tokens': 45, 'total_tokens': 52, 'completion_time': 0.0093284, 'prompt_time': 0.003634076, 'queue_time': 0.01981878, 'total_time': 0.012962476}, 'model_name': 'mixtral-8x7b-32768', 'system_fingerprint': 'fp_c5f20b5bb1', 'finish_reason': 'stop', 'logprobs': None}, id='run-182d6018-3054-4599-a10f-35f9d8d99ed2-0', usage_metadata={'input_tokens': 45, 'output_tokens': 7, 'total_tokens': 52})"
      ]
     },
     "execution_count": 7,
     "metadata": {},
     "output_type": "execute_result"
    }
   ],
   "source": [
    "from langchain_core.messages import AIMessage\n",
    "\n",
    "model.invoke([\n",
    "    HumanMessage(content=\"Hi, My name is Sunny and I am junior data scientist.\"),\n",
    "    AIMessage(content=\"Hello Sunny! It's nice to meet you.\"),\n",
    "    HumanMessage(content=\"what is my name\")])"
   ]
  },
  {
   "cell_type": "code",
   "execution_count": 8,
   "metadata": {},
   "outputs": [],
   "source": [
    "from langchain_community.chat_message_histories import ChatMessageHistory\n",
    "from langchain_core.chat_history import BaseChatMessageHistory\n",
    "from langchain_core.runnables.history import RunnableWithMessageHistory\n",
    "\n",
    "store={}\n",
    "\n",
    "def get_session_history(session_id:str)->BaseChatMessageHistory:\n",
    "    if session_id not in store:\n",
    "        store[session_id]=ChatMessageHistory()\n",
    "    return store[session_id]\n",
    "\n",
    "with_message_history=RunnableWithMessageHistory(model,get_session_history)"
   ]
  },
  {
   "cell_type": "code",
   "execution_count": 9,
   "metadata": {},
   "outputs": [
    {
     "data": {
      "text/plain": [
       "RunnableWithMessageHistory(bound=RunnableBinding(bound=RunnableBinding(bound=RunnableLambda(_enter_history), kwargs={}, config={'run_name': 'load_history'}, config_factories=[])\n",
       "| RunnableBinding(bound=RunnableLambda(_call_runnable_sync), kwargs={}, config={'run_name': 'check_sync_or_async'}, config_factories=[]), kwargs={}, config={'run_name': 'RunnableWithMessageHistory'}, config_factories=[]), kwargs={}, config={}, config_factories=[], get_session_history=<function get_session_history at 0x000001B01AD8A7A0>, history_factory_config=[ConfigurableFieldSpec(id='session_id', annotation=<class 'str'>, name='Session ID', description='Unique identifier for a session.', default='', is_shared=True, dependencies=None)])"
      ]
     },
     "execution_count": 9,
     "metadata": {},
     "output_type": "execute_result"
    }
   ],
   "source": [
    "with_message_history"
   ]
  },
  {
   "cell_type": "code",
   "execution_count": 13,
   "metadata": {},
   "outputs": [
    {
     "data": {
      "text/plain": [
       "AIMessage(content=\"Hello Sunny, it's nice to meet you! As a junior data scientist, you must be excited to start or continue your journey in this fascinating field. Data science is a rapidly growing field that involves extracting insights from large amounts of data using various techniques and tools. If you have any questions or need guidance related to data science, feel free to ask. I'm here to help. Good luck with your career!\", additional_kwargs={}, response_metadata={'token_usage': {'completion_tokens': 88, 'prompt_tokens': 130, 'total_tokens': 218, 'completion_time': 0.13514435, 'prompt_time': 0.012426688, 'queue_time': 0.021856655000000003, 'total_time': 0.147571038}, 'model_name': 'mixtral-8x7b-32768', 'system_fingerprint': 'fp_c5f20b5bb1', 'finish_reason': 'stop', 'logprobs': None}, id='run-94c23fc6-b9b6-4772-9d3a-339def84a827-0', usage_metadata={'input_tokens': 130, 'output_tokens': 88, 'total_tokens': 218})"
      ]
     },
     "execution_count": 13,
     "metadata": {},
     "output_type": "execute_result"
    }
   ],
   "source": [
    "config={\"configurable\":{\"session_id\":\"shiv\"}}\n",
    "\n",
    "response=with_message_history.invoke(\n",
    "    [HumanMessage(content=\"Hi, My name is Sunny and I am junior data scientist.\")],\n",
    "    config=config\n",
    ")\n",
    "response"
   ]
  },
  {
   "cell_type": "code",
   "execution_count": 14,
   "metadata": {},
   "outputs": [
    {
     "data": {
      "text/plain": [
       "InMemoryChatMessageHistory(messages=[HumanMessage(content='Hi, My name is Sunny and I am junior data scientist.', additional_kwargs={}, response_metadata={}), AIMessage(content=\"Hello Sunny, it's nice to meet you! As a junior data scientist, you must be excited to start or continue your journey in this fascinating field. Data science is a rapidly growing field that involves extracting insights from large amounts of data using various techniques and tools. If you have any questions or need guidance related to data science, feel free to ask. I'm here to help. Good luck with your career!\", additional_kwargs={}, response_metadata={'token_usage': {'completion_tokens': 88, 'prompt_tokens': 21, 'total_tokens': 109, 'completion_time': 0.134608873, 'prompt_time': 0.002240345, 'queue_time': 0.020138033, 'total_time': 0.136849218}, 'model_name': 'mixtral-8x7b-32768', 'system_fingerprint': 'fp_c5f20b5bb1', 'finish_reason': 'stop', 'logprobs': None}, id='run-796a3add-da0d-434a-a76a-710212eedbcb-0', usage_metadata={'input_tokens': 21, 'output_tokens': 88, 'total_tokens': 109}), HumanMessage(content='Hi, My name is Sunny and I am junior data scientist.', additional_kwargs={}, response_metadata={}), AIMessage(content=\"Hello Sunny, it's nice to meet you! As a junior data scientist, you must be excited to start or continue your journey in this fascinating field. Data science is a rapidly growing field that involves extracting insights from large amounts of data using various techniques and tools. If you have any questions or need guidance related to data science, feel free to ask. I'm here to help. Good luck with your career!\", additional_kwargs={}, response_metadata={'token_usage': {'completion_tokens': 88, 'prompt_tokens': 130, 'total_tokens': 218, 'completion_time': 0.13514435, 'prompt_time': 0.012426688, 'queue_time': 0.021856655000000003, 'total_time': 0.147571038}, 'model_name': 'mixtral-8x7b-32768', 'system_fingerprint': 'fp_c5f20b5bb1', 'finish_reason': 'stop', 'logprobs': None}, id='run-94c23fc6-b9b6-4772-9d3a-339def84a827-0', usage_metadata={'input_tokens': 130, 'output_tokens': 88, 'total_tokens': 218})])"
      ]
     },
     "execution_count": 14,
     "metadata": {},
     "output_type": "execute_result"
    }
   ],
   "source": [
    "get_session_history(\"shiv\")"
   ]
  },
  {
   "cell_type": "code",
   "execution_count": 17,
   "metadata": {},
   "outputs": [],
   "source": [
    "# Prompt Template\n",
    "\n",
    "from langchain_core.prompts import ChatPromptTemplate,MessagesPlaceholder\n",
    "\n",
    "prompt=ChatPromptTemplate.from_messages(\n",
    "    [\n",
    "        (\"system\",\"You are a helpful assisant.Answer all the questions to the best of ypur ability.\"),\n",
    "        MessagesPlaceholder(variable_name=\"messages\")\n",
    "    ]\n",
    ")\n",
    "chain=prompt|model"
   ]
  },
  {
   "cell_type": "code",
   "execution_count": 18,
   "metadata": {},
   "outputs": [
    {
     "data": {
      "text/plain": [
       "AIMessage(content=\"Hello Krishna! It's nice to meet you. I'm here to help answer any questions you have to the best of my ability. Is there something specific you'd like to know or discuss? I can assist with a wide range of topics, including but not limited to general knowledge, research, writing, technology, and much more. Just let me know how I can help you today!\", additional_kwargs={}, response_metadata={'token_usage': {'completion_tokens': 84, 'prompt_tokens': 35, 'total_tokens': 119, 'completion_time': 0.128822699, 'prompt_time': 0.003210959, 'queue_time': 0.022223886, 'total_time': 0.132033658}, 'model_name': 'mixtral-8x7b-32768', 'system_fingerprint': 'fp_c5f20b5bb1', 'finish_reason': 'stop', 'logprobs': None}, id='run-f6a6fca1-53a5-469b-a98f-bad366705b8b-0', usage_metadata={'input_tokens': 35, 'output_tokens': 84, 'total_tokens': 119})"
      ]
     },
     "execution_count": 18,
     "metadata": {},
     "output_type": "execute_result"
    }
   ],
   "source": [
    "chain.invoke({\"messages\":[HumanMessage(content=\"Hi My name is krishna\")]})"
   ]
  },
  {
   "cell_type": "code",
   "execution_count": 19,
   "metadata": {},
   "outputs": [],
   "source": [
    "with_message_history=RunnableWithMessageHistory(chain,get_session_history)\n"
   ]
  },
  {
   "cell_type": "code",
   "execution_count": 21,
   "metadata": {},
   "outputs": [],
   "source": [
    "config1={\"configurable\":{\"session_id\":\"chat-1\"}}\n"
   ]
  },
  {
   "cell_type": "code",
   "execution_count": 23,
   "metadata": {},
   "outputs": [
    {
     "data": {
      "text/plain": [
       "AIMessage(content=\"Hello Sunny, it's nice to meet you! I'm here to help you with any questions or issues you might have related to data science. As a junior data scientist, you might have questions about data analysis techniques, machine learning algorithms, data visualization, or programming tools like Python or R. I'm here to assist you with all of those topics and more. So, what can I help you with today?\", additional_kwargs={}, response_metadata={'token_usage': {'completion_tokens': 89, 'prompt_tokens': 152, 'total_tokens': 241, 'completion_time': 0.135579542, 'prompt_time': 0.008028879, 'queue_time': 0.019372689000000002, 'total_time': 0.143608421}, 'model_name': 'mixtral-8x7b-32768', 'system_fingerprint': 'fp_c5f20b5bb1', 'finish_reason': 'stop', 'logprobs': None}, id='run-82bad34e-1645-4806-9dcd-5133561480ff-0', usage_metadata={'input_tokens': 152, 'output_tokens': 89, 'total_tokens': 241})"
      ]
     },
     "execution_count": 23,
     "metadata": {},
     "output_type": "execute_result"
    }
   ],
   "source": [
    "response=with_message_history.invoke(\n",
    "    [HumanMessage(content=\"Hi, My name is Sunny and I am junior data scientist.\")],\n",
    "    config=config1\n",
    ")\n",
    "response"
   ]
  },
  {
   "cell_type": "code",
   "execution_count": null,
   "metadata": {},
   "outputs": [],
   "source": []
  },
  {
   "cell_type": "code",
   "execution_count": null,
   "metadata": {},
   "outputs": [],
   "source": []
  },
  {
   "cell_type": "code",
   "execution_count": null,
   "metadata": {},
   "outputs": [],
   "source": []
  },
  {
   "cell_type": "code",
   "execution_count": null,
   "metadata": {},
   "outputs": [],
   "source": []
  }
 ],
 "metadata": {
  "kernelspec": {
   "display_name": "Python 3",
   "language": "python",
   "name": "python3"
  },
  "language_info": {
   "codemirror_mode": {
    "name": "ipython",
    "version": 3
   },
   "file_extension": ".py",
   "mimetype": "text/x-python",
   "name": "python",
   "nbconvert_exporter": "python",
   "pygments_lexer": "ipython3",
   "version": "3.12.0"
  }
 },
 "nbformat": 4,
 "nbformat_minor": 2
}
